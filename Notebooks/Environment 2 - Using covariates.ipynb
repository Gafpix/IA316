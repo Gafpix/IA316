{
 "cells": [
  {
   "cell_type": "markdown",
   "metadata": {},
   "source": [
    "# Environment 2 - Using covariates"
   ]
  },
  {
   "cell_type": "markdown",
   "metadata": {},
   "source": [
    "In this second environment we add some covariables to have better results."
   ]
  },
  {
   "cell_type": "markdown",
   "metadata": {},
   "source": [
    "**Imports**"
   ]
  },
  {
   "cell_type": "code",
   "execution_count": 1,
   "metadata": {},
   "outputs": [
    {
     "name": "stderr",
     "output_type": "stream",
     "text": [
      "Using TensorFlow backend.\n"
     ]
    }
   ],
   "source": [
    "import requests\n",
    "import pandas as pd\n",
    "import numpy as np\n",
    "\n",
    "from keras.layers import Input, Embedding, Flatten, Dot, Concatenate, Dense, Activation, BatchNormalization, Dropout\n",
    "from keras.models import Model\n",
    "from keras.callbacks import EarlyStopping"
   ]
  },
  {
   "cell_type": "markdown",
   "metadata": {},
   "source": [
    "**Getting the data**"
   ]
  },
  {
   "cell_type": "code",
   "execution_count": 2,
   "metadata": {},
   "outputs": [],
   "source": [
    "USER_ID = '9G08LOYFU88BJ8GHNRU3'\n",
    "env = 'http://35.180.254.42/'\n",
    "\n",
    "data = requests.get(url=env+'reset', params= {'user_id':USER_ID}).json()\n",
    "\n",
    "nb_items = data['nb_items']\n",
    "nb_users = data['nb_users']\n",
    "item_history = data['item_history']\n",
    "user_history = data['user_history']\n",
    "rating_history = data['rating_history']\n",
    "variables_history = np.array(data['variables_history'])\n",
    "\n",
    "next_item = data['next_item']\n",
    "next_user = data['next_user']\n",
    "next_variables = data['next_variables']"
   ]
  },
  {
   "cell_type": "code",
   "execution_count": 3,
   "metadata": {},
   "outputs": [
    {
     "data": {
      "text/html": [
       "<div>\n",
       "<style scoped>\n",
       "    .dataframe tbody tr th:only-of-type {\n",
       "        vertical-align: middle;\n",
       "    }\n",
       "\n",
       "    .dataframe tbody tr th {\n",
       "        vertical-align: top;\n",
       "    }\n",
       "\n",
       "    .dataframe thead th {\n",
       "        text-align: right;\n",
       "    }\n",
       "</style>\n",
       "<table border=\"1\" class=\"dataframe\">\n",
       "  <thead>\n",
       "    <tr style=\"text-align: right;\">\n",
       "      <th></th>\n",
       "      <th>user_id</th>\n",
       "      <th>item_id</th>\n",
       "      <th>rating</th>\n",
       "      <th>variable0</th>\n",
       "      <th>variable1</th>\n",
       "      <th>variable2</th>\n",
       "      <th>variable3</th>\n",
       "      <th>variable4</th>\n",
       "    </tr>\n",
       "  </thead>\n",
       "  <tbody>\n",
       "    <tr>\n",
       "      <th>0</th>\n",
       "      <td>71</td>\n",
       "      <td>136</td>\n",
       "      <td>4</td>\n",
       "      <td>1.824085</td>\n",
       "      <td>2.893115</td>\n",
       "      <td>1.219532</td>\n",
       "      <td>0.334681</td>\n",
       "      <td>0.528621</td>\n",
       "    </tr>\n",
       "    <tr>\n",
       "      <th>1</th>\n",
       "      <td>27</td>\n",
       "      <td>236</td>\n",
       "      <td>5</td>\n",
       "      <td>1.676702</td>\n",
       "      <td>1.494615</td>\n",
       "      <td>1.254594</td>\n",
       "      <td>2.080134</td>\n",
       "      <td>0.927485</td>\n",
       "    </tr>\n",
       "    <tr>\n",
       "      <th>2</th>\n",
       "      <td>11</td>\n",
       "      <td>215</td>\n",
       "      <td>5</td>\n",
       "      <td>1.119021</td>\n",
       "      <td>0.690640</td>\n",
       "      <td>1.462471</td>\n",
       "      <td>-1.023091</td>\n",
       "      <td>-0.033058</td>\n",
       "    </tr>\n",
       "    <tr>\n",
       "      <th>3</th>\n",
       "      <td>61</td>\n",
       "      <td>18</td>\n",
       "      <td>3</td>\n",
       "      <td>-0.672768</td>\n",
       "      <td>1.184261</td>\n",
       "      <td>0.403368</td>\n",
       "      <td>1.372020</td>\n",
       "      <td>1.038933</td>\n",
       "    </tr>\n",
       "    <tr>\n",
       "      <th>4</th>\n",
       "      <td>16</td>\n",
       "      <td>164</td>\n",
       "      <td>3</td>\n",
       "      <td>-0.136157</td>\n",
       "      <td>1.016314</td>\n",
       "      <td>0.901480</td>\n",
       "      <td>-0.008183</td>\n",
       "      <td>2.490790</td>\n",
       "    </tr>\n",
       "  </tbody>\n",
       "</table>\n",
       "</div>"
      ],
      "text/plain": [
       "   user_id  item_id  rating  variable0  variable1  variable2  variable3  \\\n",
       "0       71      136       4   1.824085   2.893115   1.219532   0.334681   \n",
       "1       27      236       5   1.676702   1.494615   1.254594   2.080134   \n",
       "2       11      215       5   1.119021   0.690640   1.462471  -1.023091   \n",
       "3       61       18       3  -0.672768   1.184261   0.403368   1.372020   \n",
       "4       16      164       3  -0.136157   1.016314   0.901480  -0.008183   \n",
       "\n",
       "   variable4  \n",
       "0   0.528621  \n",
       "1   0.927485  \n",
       "2  -0.033058  \n",
       "3   1.038933  \n",
       "4   2.490790  "
      ]
     },
     "execution_count": 3,
     "metadata": {},
     "output_type": "execute_result"
    }
   ],
   "source": [
    "ratings = pd.DataFrame(data={'user_id':user_history, 'item_id':item_history, 'rating': rating_history, 'variable0': variables_history[:,0], 'variable1': variables_history[:,1], 'variable2': variables_history[:,2], 'variable3': variables_history[:,3], 'variable4': variables_history[:,4]})\n",
    "ratings.head()"
   ]
  },
  {
   "cell_type": "markdown",
   "metadata": {},
   "source": [
    "## Building the model"
   ]
  },
  {
   "cell_type": "code",
   "execution_count": 4,
   "metadata": {},
   "outputs": [],
   "source": [
    "def build_model(embedding_size = 5):\n",
    "    \n",
    "    user_id_input = Input(shape=[1],name='user')\n",
    "    item_id_input = Input(shape=[1], name='item')\n",
    "    variables_input = Input(shape=[5], name='variables')\n",
    "\n",
    "    user_embedding = Embedding(output_dim=embedding_size,\n",
    "                               input_dim=nb_users + 1,\n",
    "                               input_length=1,\n",
    "                               name='user_embedding')(user_id_input)\n",
    "\n",
    "    item_embedding = Embedding(output_dim=embedding_size,\n",
    "                               input_dim=nb_items + 1,\n",
    "                               input_length=1,\n",
    "                               name='item_embedding')(item_id_input)\n",
    "\n",
    "    user_vecs = Flatten()(user_embedding)\n",
    "    item_vecs = Flatten()(item_embedding)\n",
    "\n",
    "    concat = Concatenate()([user_vecs, item_vecs, variables_input])\n",
    "\n",
    "    first_dense = Dense(256)(concat)\n",
    "    first_activation = Activation('relu')(first_dense)\n",
    "\n",
    "    first_dropout = Dropout(0)(first_activation)\n",
    "\n",
    "    second_dense = Dense(256)(first_dropout)\n",
    "    second_activation = Activation('relu')(second_dense)\n",
    "\n",
    "    second_dropout = Dropout(0)(second_activation)\n",
    "\n",
    "    third_dense = Dense(256)(second_dropout)\n",
    "    third_activation = Activation('relu')(third_dense)\n",
    "\n",
    "    output = Dense(1)(third_activation)\n",
    "\n",
    "\n",
    "    model = Model(inputs=[user_id_input, item_id_input, variables_input], outputs=output)\n",
    "\n",
    "    return model"
   ]
  },
  {
   "cell_type": "code",
   "execution_count": null,
   "metadata": {},
   "outputs": [
    {
     "name": "stdout",
     "output_type": "stream",
     "text": [
      "__________________________________________________________________________________________________\n",
      "Layer (type)                    Output Shape         Param #     Connected to                     \n",
      "==================================================================================================\n",
      "user (InputLayer)               (None, 1)            0                                            \n",
      "__________________________________________________________________________________________________\n",
      "item (InputLayer)               (None, 1)            0                                            \n",
      "__________________________________________________________________________________________________\n",
      "user_embedding (Embedding)      (None, 1, 5)         505         user[0][0]                       \n",
      "__________________________________________________________________________________________________\n",
      "item_embedding (Embedding)      (None, 1, 5)         1505        item[0][0]                       \n",
      "__________________________________________________________________________________________________\n",
      "flatten_1 (Flatten)             (None, 5)            0           user_embedding[0][0]             \n",
      "__________________________________________________________________________________________________\n",
      "flatten_2 (Flatten)             (None, 5)            0           item_embedding[0][0]             \n",
      "__________________________________________________________________________________________________\n",
      "variables (InputLayer)          (None, 5)            0                                            \n",
      "__________________________________________________________________________________________________\n",
      "concatenate_1 (Concatenate)     (None, 15)           0           flatten_1[0][0]                  \n",
      "                                                                 flatten_2[0][0]                  \n",
      "                                                                 variables[0][0]                  \n",
      "__________________________________________________________________________________________________\n",
      "dense_1 (Dense)                 (None, 256)          4096        concatenate_1[0][0]              \n",
      "__________________________________________________________________________________________________\n",
      "activation_1 (Activation)       (None, 256)          0           dense_1[0][0]                    \n",
      "__________________________________________________________________________________________________\n",
      "dropout_1 (Dropout)             (None, 256)          0           activation_1[0][0]               \n",
      "__________________________________________________________________________________________________\n",
      "dense_2 (Dense)                 (None, 256)          65792       dropout_1[0][0]                  \n",
      "__________________________________________________________________________________________________\n",
      "activation_2 (Activation)       (None, 256)          0           dense_2[0][0]                    \n",
      "__________________________________________________________________________________________________\n",
      "dropout_2 (Dropout)             (None, 256)          0           activation_2[0][0]               \n",
      "__________________________________________________________________________________________________\n",
      "dense_3 (Dense)                 (None, 256)          65792       dropout_2[0][0]                  \n",
      "__________________________________________________________________________________________________\n",
      "activation_3 (Activation)       (None, 256)          0           dense_3[0][0]                    \n",
      "__________________________________________________________________________________________________\n",
      "dense_4 (Dense)                 (None, 1)            257         activation_3[0][0]               \n",
      "==================================================================================================\n",
      "Total params: 137,947\n",
      "Trainable params: 137,947\n",
      "Non-trainable params: 0\n",
      "__________________________________________________________________________________________________\n"
     ]
    }
   ],
   "source": [
    "model = build_model()\n",
    "model.summary()\n",
    "\n",
    "model.compile(optimizer='adam', loss='MSE')"
   ]
  },
  {
   "cell_type": "code",
   "execution_count": null,
   "metadata": {},
   "outputs": [
    {
     "name": "stdout",
     "output_type": "stream",
     "text": [
      "Train on 1600 samples, validate on 400 samples\n",
      "Epoch 1/50\n",
      "1600/1600 [==============================] - 0s 271us/step - loss: 3.4162 - val_loss: 2.1628\n",
      "Epoch 2/50\n",
      "1600/1600 [==============================] - 0s 77us/step - loss: 2.3644 - val_loss: 2.0534\n",
      "Epoch 3/50\n",
      "1600/1600 [==============================] - 0s 83us/step - loss: 2.1216 - val_loss: 1.8515\n",
      "Epoch 4/50\n",
      "1600/1600 [==============================] - 0s 83us/step - loss: 1.7049 - val_loss: 1.4173\n",
      "Epoch 5/50\n",
      "1600/1600 [==============================] - 0s 80us/step - loss: 1.0051 - val_loss: 1.0124\n",
      "Epoch 6/50\n",
      "1600/1600 [==============================] - 0s 64us/step - loss: 0.6788 - val_loss: 0.8501\n",
      "Epoch 7/50\n",
      "1600/1600 [==============================] - 0s 76us/step - loss: 0.5511 - val_loss: 0.7427\n",
      "Epoch 8/50\n",
      "1600/1600 [==============================] - 0s 77us/step - loss: 0.4776 - val_loss: 0.7167\n",
      "Epoch 9/50\n",
      "1600/1600 [==============================] - 0s 72us/step - loss: 0.4293 - val_loss: 0.7468\n",
      "Epoch 10/50\n",
      "1600/1600 [==============================] - 0s 69us/step - loss: 0.4169 - val_loss: 0.7099\n",
      "Epoch 11/50\n",
      "1600/1600 [==============================] - 0s 80us/step - loss: 0.4106 - val_loss: 0.6879\n",
      "Epoch 12/50\n",
      "1600/1600 [==============================] - 0s 82us/step - loss: 0.3957 - val_loss: 0.6921\n",
      "Epoch 13/50\n",
      "1600/1600 [==============================] - 0s 81us/step - loss: 0.3752 - val_loss: 0.6892\n"
     ]
    },
    {
     "data": {
      "text/plain": [
       "<keras.callbacks.History at 0x7f0329c6b748>"
      ]
     },
     "execution_count": 6,
     "metadata": {},
     "output_type": "execute_result"
    }
   ],
   "source": [
    "early_stopping = EarlyStopping(monitor='val_loss', patience=2)\n",
    "model.fit(\n",
    "    [\n",
    "        ratings['user_id'],\n",
    "        ratings['item_id'],\n",
    "        ratings[['variable0', 'variable1', 'variable2', 'variable3', 'variable4']]\n",
    "    ],\n",
    "    ratings['rating'],\n",
    "    batch_size=64,\n",
    "    epochs=50,\n",
    "    validation_split=0.2,\n",
    "    shuffle=True,\n",
    "    callbacks=[early_stopping]\n",
    ")\n"
   ]
  },
  {
   "cell_type": "markdown",
   "metadata": {},
   "source": [
    "## Testing"
   ]
  },
  {
   "cell_type": "code",
   "execution_count": null,
   "metadata": {},
   "outputs": [
    {
     "name": "stdout",
     "output_type": "stream",
     "text": [
      "Episode 100/1000\n",
      "Episode 200/1000\n",
      "Episode 300/1000\n",
      "Episode 400/1000\n",
      "Episode 500/1000\n",
      "Episode 600/1000\n",
      "Episode 700/1000\n",
      "Episode 800/1000\n",
      "Episode 900/1000\n"
     ]
    }
   ],
   "source": [
    "nb_samples = 1000\n",
    "mse = 0\n",
    "users_list = []\n",
    "ratings_list = []\n",
    "items_list = []\n",
    "variables_list = []\n",
    "\n",
    "for i in range(nb_samples):\n",
    "    predicted_score = model.predict([[next_user], [next_item], [next_variables]])[0,0]\n",
    "    \n",
    "    r = requests.get(url=env + 'predict', params= {'user_id':USER_ID, 'predicted_score':predicted_score})\n",
    "    true_rating = r.json()['rating']\n",
    "    mse += (true_rating - predicted_score)**2\n",
    "    \n",
    "    users_list += [next_user]\n",
    "    ratings_list += [true_rating]\n",
    "    items_list += [next_item]\n",
    "    variables_list += [next_variables]\n",
    "    \n",
    "    if (i+1)%100 == 0:\n",
    "        print(\"Episode {:d}/{:d}\".format(i+1, nb_samples))\n",
    "        model.fit([users_list, items_list, variables_list], ratings_list, verbose=0, epochs=early_stopping.stopped_epoch)\n",
    "        users_list = []\n",
    "        ratings_list = []\n",
    "        items_list = []\n",
    "        variables_list = []\n",
    "\n",
    "    next_item = r.json()['next_item']\n",
    "    next_user = r.json()['next_user']\n",
    "    next_variables = r.json()['next_variables']\n",
    "    \n",
    "print('\\nMSE: ', mse/nb_samples )"
   ]
  }
 ],
 "metadata": {
  "kernelspec": {
   "display_name": "Python 3",
   "language": "python",
   "name": "python3"
  },
  "language_info": {
   "codemirror_mode": {
    "name": "ipython",
    "version": 3
   },
   "file_extension": ".py",
   "mimetype": "text/x-python",
   "name": "python",
   "nbconvert_exporter": "python",
   "pygments_lexer": "ipython3",
   "version": "3.6.7"
  }
 },
 "nbformat": 4,
 "nbformat_minor": 2
}
