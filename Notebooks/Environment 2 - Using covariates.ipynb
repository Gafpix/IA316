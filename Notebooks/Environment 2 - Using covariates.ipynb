{
 "cells": [
  {
   "cell_type": "markdown",
   "metadata": {},
   "source": [
    "# Environment 2 - Using covariates"
   ]
  },
  {
   "cell_type": "markdown",
   "metadata": {},
   "source": [
    "In this second environment we add some covariables to have better results."
   ]
  },
  {
   "cell_type": "markdown",
   "metadata": {},
   "source": [
    "**Imports**"
   ]
  },
  {
   "cell_type": "code",
   "execution_count": 1,
   "metadata": {},
   "outputs": [
    {
     "name": "stderr",
     "output_type": "stream",
     "text": [
      "Using TensorFlow backend.\n"
     ]
    }
   ],
   "source": [
    "import requests\n",
    "import pandas as pd\n",
    "import numpy as np\n",
    "\n",
    "from keras.layers import Input, Embedding, Flatten, Dot, Concatenate, Dense, Activation, BatchNormalization, Dropout\n",
    "from keras.models import Model\n",
    "from keras.callbacks import EarlyStopping"
   ]
  },
  {
   "cell_type": "markdown",
   "metadata": {},
   "source": [
    "**Getting the data**"
   ]
  },
  {
   "cell_type": "code",
   "execution_count": 2,
   "metadata": {},
   "outputs": [],
   "source": [
    "USER_ID = '9G08LOYFU88BJ8GHNRU3'\n",
    "env = 'http://35.180.254.42/'\n",
    "\n",
    "data = requests.get(url=env+'reset', params= {'user_id':USER_ID}).json()\n",
    "\n",
    "nb_items = data['nb_items']\n",
    "nb_users = data['nb_users']\n",
    "item_history = data['item_history']\n",
    "user_history = data['user_history']\n",
    "rating_history = data['rating_history']\n",
    "variables_history = np.array(data['variables_history'])\n",
    "\n",
    "next_item = data['next_item']\n",
    "next_user = data['next_user']\n",
    "next_variables = data['next_variables']"
   ]
  },
  {
   "cell_type": "code",
   "execution_count": 3,
   "metadata": {},
   "outputs": [
    {
     "data": {
      "text/html": [
       "<div>\n",
       "<style scoped>\n",
       "    .dataframe tbody tr th:only-of-type {\n",
       "        vertical-align: middle;\n",
       "    }\n",
       "\n",
       "    .dataframe tbody tr th {\n",
       "        vertical-align: top;\n",
       "    }\n",
       "\n",
       "    .dataframe thead th {\n",
       "        text-align: right;\n",
       "    }\n",
       "</style>\n",
       "<table border=\"1\" class=\"dataframe\">\n",
       "  <thead>\n",
       "    <tr style=\"text-align: right;\">\n",
       "      <th></th>\n",
       "      <th>user_id</th>\n",
       "      <th>item_id</th>\n",
       "      <th>rating</th>\n",
       "      <th>variable0</th>\n",
       "      <th>variable1</th>\n",
       "      <th>variable2</th>\n",
       "      <th>variable3</th>\n",
       "      <th>variable4</th>\n",
       "    </tr>\n",
       "  </thead>\n",
       "  <tbody>\n",
       "    <tr>\n",
       "      <th>0</th>\n",
       "      <td>86</td>\n",
       "      <td>203</td>\n",
       "      <td>2</td>\n",
       "      <td>0.758556</td>\n",
       "      <td>0.690420</td>\n",
       "      <td>0.206520</td>\n",
       "      <td>1.642183</td>\n",
       "      <td>-0.343074</td>\n",
       "    </tr>\n",
       "    <tr>\n",
       "      <th>1</th>\n",
       "      <td>51</td>\n",
       "      <td>37</td>\n",
       "      <td>1</td>\n",
       "      <td>0.399668</td>\n",
       "      <td>0.663940</td>\n",
       "      <td>3.518021</td>\n",
       "      <td>1.893480</td>\n",
       "      <td>0.161181</td>\n",
       "    </tr>\n",
       "    <tr>\n",
       "      <th>2</th>\n",
       "      <td>87</td>\n",
       "      <td>274</td>\n",
       "      <td>5</td>\n",
       "      <td>0.975652</td>\n",
       "      <td>-0.383725</td>\n",
       "      <td>1.536270</td>\n",
       "      <td>1.135560</td>\n",
       "      <td>1.410745</td>\n",
       "    </tr>\n",
       "    <tr>\n",
       "      <th>3</th>\n",
       "      <td>26</td>\n",
       "      <td>82</td>\n",
       "      <td>2</td>\n",
       "      <td>-0.205529</td>\n",
       "      <td>1.058542</td>\n",
       "      <td>1.575781</td>\n",
       "      <td>-0.343903</td>\n",
       "      <td>0.094833</td>\n",
       "    </tr>\n",
       "    <tr>\n",
       "      <th>4</th>\n",
       "      <td>92</td>\n",
       "      <td>133</td>\n",
       "      <td>2</td>\n",
       "      <td>0.485205</td>\n",
       "      <td>-1.021502</td>\n",
       "      <td>2.082121</td>\n",
       "      <td>1.421829</td>\n",
       "      <td>1.296152</td>\n",
       "    </tr>\n",
       "  </tbody>\n",
       "</table>\n",
       "</div>"
      ],
      "text/plain": [
       "   user_id  item_id  rating  variable0  variable1  variable2  variable3  \\\n",
       "0       86      203       2   0.758556   0.690420   0.206520   1.642183   \n",
       "1       51       37       1   0.399668   0.663940   3.518021   1.893480   \n",
       "2       87      274       5   0.975652  -0.383725   1.536270   1.135560   \n",
       "3       26       82       2  -0.205529   1.058542   1.575781  -0.343903   \n",
       "4       92      133       2   0.485205  -1.021502   2.082121   1.421829   \n",
       "\n",
       "   variable4  \n",
       "0  -0.343074  \n",
       "1   0.161181  \n",
       "2   1.410745  \n",
       "3   0.094833  \n",
       "4   1.296152  "
      ]
     },
     "execution_count": 3,
     "metadata": {},
     "output_type": "execute_result"
    }
   ],
   "source": [
    "ratings = pd.DataFrame(data={'user_id':user_history, 'item_id':item_history, 'rating': rating_history, 'variable0': variables_history[:,0], 'variable1': variables_history[:,1], 'variable2': variables_history[:,2], 'variable3': variables_history[:,3], 'variable4': variables_history[:,4]})\n",
    "ratings.head()"
   ]
  },
  {
   "cell_type": "markdown",
   "metadata": {},
   "source": [
    "## Building the model"
   ]
  },
  {
   "cell_type": "code",
   "execution_count": 4,
   "metadata": {},
   "outputs": [],
   "source": [
    "def build_model(embedding_size = 5):\n",
    "    \n",
    "    user_id_input = Input(shape=[1],name='user')\n",
    "    item_id_input = Input(shape=[1], name='item')\n",
    "    variables_input = Input(shape=[5], name='variables')\n",
    "\n",
    "    user_embedding = Embedding(output_dim=embedding_size,\n",
    "                               input_dim=nb_users + 1,\n",
    "                               input_length=1,\n",
    "                               name='user_embedding')(user_id_input)\n",
    "\n",
    "    item_embedding = Embedding(output_dim=embedding_size,\n",
    "                               input_dim=nb_items + 1,\n",
    "                               input_length=1,\n",
    "                               name='item_embedding')(item_id_input)\n",
    "\n",
    "    user_vecs = Flatten()(user_embedding)\n",
    "    item_vecs = Flatten()(item_embedding)\n",
    "\n",
    "    concat = Concatenate()([user_vecs, item_vecs, variables_input])\n",
    "\n",
    "    first_dense = Dense(100)(concat)\n",
    "    first_activation = Activation('relu')(first_dense)\n",
    "\n",
    "    first_dropout = Dropout(0.4)(first_activation)\n",
    "\n",
    "    second_dense = Dense(80)(first_dropout)\n",
    "    second_activation = Activation('relu')(second_dense)\n",
    "\n",
    "    second_dropout = Dropout(0.4)(second_activation)\n",
    "\n",
    "    third_dense = Dense(60)(second_dropout)\n",
    "    third_activation = Activation('relu')(third_dense)\n",
    "\n",
    "    third_dropout = Dense(1)(third_activation)\n",
    "\n",
    "\n",
    "    model = Model(inputs=[user_id_input, item_id_input, variables_input], outputs=third_dropout)\n",
    "\n",
    "    return model"
   ]
  },
  {
   "cell_type": "code",
   "execution_count": 5,
   "metadata": {},
   "outputs": [
    {
     "name": "stdout",
     "output_type": "stream",
     "text": [
      "__________________________________________________________________________________________________\n",
      "Layer (type)                    Output Shape         Param #     Connected to                     \n",
      "==================================================================================================\n",
      "user (InputLayer)               (None, 1)            0                                            \n",
      "__________________________________________________________________________________________________\n",
      "item (InputLayer)               (None, 1)            0                                            \n",
      "__________________________________________________________________________________________________\n",
      "user_embedding (Embedding)      (None, 1, 5)         505         user[0][0]                       \n",
      "__________________________________________________________________________________________________\n",
      "item_embedding (Embedding)      (None, 1, 5)         1505        item[0][0]                       \n",
      "__________________________________________________________________________________________________\n",
      "flatten_1 (Flatten)             (None, 5)            0           user_embedding[0][0]             \n",
      "__________________________________________________________________________________________________\n",
      "flatten_2 (Flatten)             (None, 5)            0           item_embedding[0][0]             \n",
      "__________________________________________________________________________________________________\n",
      "variables (InputLayer)          (None, 5)            0                                            \n",
      "__________________________________________________________________________________________________\n",
      "concatenate_1 (Concatenate)     (None, 15)           0           flatten_1[0][0]                  \n",
      "                                                                 flatten_2[0][0]                  \n",
      "                                                                 variables[0][0]                  \n",
      "__________________________________________________________________________________________________\n",
      "dense_1 (Dense)                 (None, 100)          1600        concatenate_1[0][0]              \n",
      "__________________________________________________________________________________________________\n",
      "activation_1 (Activation)       (None, 100)          0           dense_1[0][0]                    \n",
      "__________________________________________________________________________________________________\n",
      "dropout_1 (Dropout)             (None, 100)          0           activation_1[0][0]               \n",
      "__________________________________________________________________________________________________\n",
      "dense_2 (Dense)                 (None, 80)           8080        dropout_1[0][0]                  \n",
      "__________________________________________________________________________________________________\n",
      "activation_2 (Activation)       (None, 80)           0           dense_2[0][0]                    \n",
      "__________________________________________________________________________________________________\n",
      "dropout_2 (Dropout)             (None, 80)           0           activation_2[0][0]               \n",
      "__________________________________________________________________________________________________\n",
      "dense_3 (Dense)                 (None, 60)           4860        dropout_2[0][0]                  \n",
      "__________________________________________________________________________________________________\n",
      "activation_3 (Activation)       (None, 60)           0           dense_3[0][0]                    \n",
      "__________________________________________________________________________________________________\n",
      "dense_4 (Dense)                 (None, 1)            61          activation_3[0][0]               \n",
      "==================================================================================================\n",
      "Total params: 16,611\n",
      "Trainable params: 16,611\n",
      "Non-trainable params: 0\n",
      "__________________________________________________________________________________________________\n"
     ]
    }
   ],
   "source": [
    "model = build_model()\n",
    "model.summary()\n",
    "\n",
    "model.compile(optimizer='adam', loss='MSE')"
   ]
  },
  {
   "cell_type": "code",
   "execution_count": 6,
   "metadata": {},
   "outputs": [
    {
     "name": "stdout",
     "output_type": "stream",
     "text": [
      "Train on 1800 samples, validate on 200 samples\n",
      "Epoch 1/20\n",
      "1800/1800 [==============================] - 0s 224us/step - loss: 4.7346 - val_loss: 2.4447\n",
      "Epoch 2/20\n",
      "1800/1800 [==============================] - 0s 37us/step - loss: 2.7281 - val_loss: 2.3001\n",
      "Epoch 3/20\n",
      "1800/1800 [==============================] - 0s 34us/step - loss: 2.5548 - val_loss: 2.0413\n",
      "Epoch 4/20\n",
      "1800/1800 [==============================] - 0s 36us/step - loss: 2.3771 - val_loss: 2.3001\n",
      "Epoch 5/20\n",
      "1800/1800 [==============================] - 0s 35us/step - loss: 2.1906 - val_loss: 2.0084\n",
      "Epoch 6/20\n",
      "1800/1800 [==============================] - 0s 34us/step - loss: 1.9495 - val_loss: 1.8190\n",
      "Epoch 7/20\n",
      "1800/1800 [==============================] - 0s 34us/step - loss: 1.6937 - val_loss: 1.6551\n",
      "Epoch 8/20\n",
      "1800/1800 [==============================] - 0s 34us/step - loss: 1.3384 - val_loss: 1.4176\n",
      "Epoch 9/20\n",
      "1800/1800 [==============================] - 0s 30us/step - loss: 1.2222 - val_loss: 1.2430\n",
      "Epoch 10/20\n",
      "1800/1800 [==============================] - 0s 36us/step - loss: 1.0620 - val_loss: 1.2162\n",
      "Epoch 11/20\n",
      "1800/1800 [==============================] - 0s 36us/step - loss: 0.9074 - val_loss: 1.1395\n",
      "Epoch 12/20\n",
      "1800/1800 [==============================] - 0s 30us/step - loss: 0.8882 - val_loss: 1.0686\n",
      "Epoch 13/20\n",
      "1800/1800 [==============================] - 0s 34us/step - loss: 0.8321 - val_loss: 1.2049\n",
      "Epoch 14/20\n",
      "1800/1800 [==============================] - 0s 36us/step - loss: 0.7935 - val_loss: 1.0253\n",
      "Epoch 15/20\n",
      "1800/1800 [==============================] - 0s 30us/step - loss: 0.7575 - val_loss: 1.1851\n",
      "Epoch 16/20\n",
      "1800/1800 [==============================] - 0s 34us/step - loss: 0.7708 - val_loss: 0.8890\n",
      "Epoch 17/20\n",
      "1800/1800 [==============================] - 0s 34us/step - loss: 0.7021 - val_loss: 1.0595\n",
      "Epoch 18/20\n",
      "1800/1800 [==============================] - 0s 30us/step - loss: 0.7261 - val_loss: 1.0838\n"
     ]
    },
    {
     "data": {
      "text/plain": [
       "<keras.callbacks.History at 0x7fa8165e1160>"
      ]
     },
     "execution_count": 6,
     "metadata": {},
     "output_type": "execute_result"
    }
   ],
   "source": [
    "early_stopping = EarlyStopping(monitor='val_loss', patience=2)\n",
    "model.fit(\n",
    "    [\n",
    "        ratings['user_id'],\n",
    "        ratings['item_id'],\n",
    "        ratings[['variable0', 'variable1', 'variable2', 'variable3', 'variable4']]\n",
    "    ],\n",
    "    ratings['rating'],\n",
    "    batch_size=64,\n",
    "    epochs=20,\n",
    "    validation_split=0.1,\n",
    "    shuffle=True,\n",
    "    callbacks=[early_stopping])\n"
   ]
  },
  {
   "cell_type": "markdown",
   "metadata": {},
   "source": [
    "## Testing"
   ]
  },
  {
   "cell_type": "code",
   "execution_count": 7,
   "metadata": {},
   "outputs": [
    {
     "name": "stdout",
     "output_type": "stream",
     "text": [
      "Episode 100/1000\n",
      "Episode 200/1000\n",
      "Episode 300/1000\n",
      "Episode 400/1000\n",
      "Episode 500/1000\n",
      "Episode 600/1000\n",
      "Episode 700/1000\n",
      "Episode 800/1000\n",
      "Episode 900/1000\n",
      "Episode 1000/1000\n",
      "\n",
      "MSE:  1.0433540274132733\n"
     ]
    }
   ],
   "source": [
    "nb_samples = 1000\n",
    "mse = 0\n",
    "users_list = []\n",
    "ratings_list = []\n",
    "items_list = []\n",
    "variables_list = []\n",
    "\n",
    "for i in range(nb_samples):\n",
    "    predicted_score = model.predict([[next_user], [next_item], [next_variables]])[0,0]\n",
    "    \n",
    "    r = requests.get(url=env + 'predict', params= {'user_id':USER_ID, 'predicted_score':predicted_score})\n",
    "    true_rating = r.json()['rating']\n",
    "    mse += (true_rating - predicted_score)**2\n",
    "    \n",
    "    users_list += [next_user]\n",
    "    ratings_list += [true_rating]\n",
    "    items_list += [next_item]\n",
    "    variables_list += [next_variables]\n",
    "    \n",
    "    if (i+1)%100 == 0:\n",
    "        print(\"Episode {:d}/{:d}\".format(i+1, nb_samples))\n",
    "        model.fit([users_list, items_list, variables_list], ratings_list, verbose=0, epochs=20)\n",
    "        users_list = []\n",
    "        ratings_list = []\n",
    "        items_list = []\n",
    "        variables_list = []\n",
    "\n",
    "    next_item = r.json()['next_item']\n",
    "    next_user = r.json()['next_user']\n",
    "    next_variables = r.json()['next_variables']\n",
    "    \n",
    "print('\\nMSE: ', mse/nb_samples )"
   ]
  }
 ],
 "metadata": {
  "kernelspec": {
   "display_name": "Python 3",
   "language": "python",
   "name": "python3"
  },
  "language_info": {
   "codemirror_mode": {
    "name": "ipython",
    "version": 3
   },
   "file_extension": ".py",
   "mimetype": "text/x-python",
   "name": "python",
   "nbconvert_exporter": "python",
   "pygments_lexer": "ipython3",
   "version": "3.6.7"
  }
 },
 "nbformat": 4,
 "nbformat_minor": 2
}
