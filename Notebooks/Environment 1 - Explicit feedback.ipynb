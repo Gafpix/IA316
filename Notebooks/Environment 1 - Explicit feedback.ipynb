{
 "cells": [
  {
   "cell_type": "markdown",
   "metadata": {},
   "source": [
    "# Environment 1 - Explicit feedback"
   ]
  },
  {
   "cell_type": "markdown",
   "metadata": {},
   "source": [
    "This is a classical explicit feedback environment. We have users, items and the some of the corresponding ratings. We then need to be able to predict the other ratings."
   ]
  },
  {
   "cell_type": "markdown",
   "metadata": {},
   "source": [
    "**Imports**"
   ]
  },
  {
   "cell_type": "code",
   "execution_count": 1,
   "metadata": {},
   "outputs": [
    {
     "name": "stderr",
     "output_type": "stream",
     "text": [
      "Using TensorFlow backend.\n"
     ]
    }
   ],
   "source": [
    "import requests\n",
    "import pandas as pd\n",
    "import numpy as np\n",
    "\n",
    "from keras.layers import Input, Embedding, Flatten, Dot, Concatenate, Dense, Activation, BatchNormalization, Dropout\n",
    "from keras.models import Model\n",
    "from keras.callbacks import EarlyStopping"
   ]
  },
  {
   "cell_type": "markdown",
   "metadata": {},
   "source": [
    "**Getting the data**"
   ]
  },
  {
   "cell_type": "code",
   "execution_count": 2,
   "metadata": {},
   "outputs": [],
   "source": [
    "USER_ID = '9G08LOYFU88BJ8GHNRU3'\n",
    "env = 'http://52.47.62.31/'"
   ]
  },
  {
   "cell_type": "code",
   "execution_count": 3,
   "metadata": {},
   "outputs": [],
   "source": [
    "data = requests.get(url=env+'reset', params= {'user_id':USER_ID}).json()\n",
    "\n",
    "nb_items = data['nb_items']\n",
    "nb_users = data['nb_users']\n",
    "\n",
    "item_history = data['item_history']\n",
    "user_history = data['user_history']\n",
    "rating_history = data['rating_history']\n",
    "\n",
    "next_item = data['next_item']\n",
    "next_user = data['next_user']"
   ]
  },
  {
   "cell_type": "code",
   "execution_count": 4,
   "metadata": {
    "scrolled": true
   },
   "outputs": [
    {
     "data": {
      "text/html": [
       "<div>\n",
       "<style scoped>\n",
       "    .dataframe tbody tr th:only-of-type {\n",
       "        vertical-align: middle;\n",
       "    }\n",
       "\n",
       "    .dataframe tbody tr th {\n",
       "        vertical-align: top;\n",
       "    }\n",
       "\n",
       "    .dataframe thead th {\n",
       "        text-align: right;\n",
       "    }\n",
       "</style>\n",
       "<table border=\"1\" class=\"dataframe\">\n",
       "  <thead>\n",
       "    <tr style=\"text-align: right;\">\n",
       "      <th></th>\n",
       "      <th>user_id</th>\n",
       "      <th>item_id</th>\n",
       "      <th>rating</th>\n",
       "    </tr>\n",
       "  </thead>\n",
       "  <tbody>\n",
       "    <tr>\n",
       "      <th>0</th>\n",
       "      <td>38</td>\n",
       "      <td>0</td>\n",
       "      <td>2</td>\n",
       "    </tr>\n",
       "    <tr>\n",
       "      <th>1</th>\n",
       "      <td>40</td>\n",
       "      <td>269</td>\n",
       "      <td>5</td>\n",
       "    </tr>\n",
       "    <tr>\n",
       "      <th>2</th>\n",
       "      <td>92</td>\n",
       "      <td>47</td>\n",
       "      <td>1</td>\n",
       "    </tr>\n",
       "    <tr>\n",
       "      <th>3</th>\n",
       "      <td>31</td>\n",
       "      <td>164</td>\n",
       "      <td>4</td>\n",
       "    </tr>\n",
       "    <tr>\n",
       "      <th>4</th>\n",
       "      <td>63</td>\n",
       "      <td>36</td>\n",
       "      <td>2</td>\n",
       "    </tr>\n",
       "  </tbody>\n",
       "</table>\n",
       "</div>"
      ],
      "text/plain": [
       "   user_id  item_id  rating\n",
       "0       38        0       2\n",
       "1       40      269       5\n",
       "2       92       47       1\n",
       "3       31      164       4\n",
       "4       63       36       2"
      ]
     },
     "execution_count": 4,
     "metadata": {},
     "output_type": "execute_result"
    }
   ],
   "source": [
    "ratings = pd.DataFrame(data={'user_id':user_history, 'item_id':item_history, 'rating': rating_history})\n",
    "ratings.head()"
   ]
  },
  {
   "cell_type": "markdown",
   "metadata": {},
   "source": [
    "## Building the model"
   ]
  },
  {
   "cell_type": "code",
   "execution_count": 5,
   "metadata": {},
   "outputs": [],
   "source": [
    "def build_model(embedding_size = 5):\n",
    "    \n",
    "    user_id_input = Input(shape=[1],name='user')\n",
    "    item_id_input = Input(shape=[1], name='item')\n",
    "\n",
    "    user_embedding = Embedding(output_dim=embedding_size,\n",
    "                               input_dim=nb_users + 1,\n",
    "                               input_length=1,\n",
    "                               name='user_embedding')(user_id_input)\n",
    "\n",
    "    item_embedding = Embedding(output_dim=embedding_size,\n",
    "                               input_dim=nb_items + 1,\n",
    "                               input_length=1,\n",
    "                               name='item_embedding')(item_id_input)\n",
    "\n",
    "    user_vecs = Flatten()(user_embedding)\n",
    "    item_vecs = Flatten()(item_embedding)\n",
    "\n",
    "    y = Dot(axes=1)([user_vecs, item_vecs])\n",
    "\n",
    "    model = Model(inputs=[user_id_input, item_id_input], outputs=y)\n",
    "    \n",
    "    return model"
   ]
  },
  {
   "cell_type": "code",
   "execution_count": 6,
   "metadata": {},
   "outputs": [
    {
     "name": "stdout",
     "output_type": "stream",
     "text": [
      "__________________________________________________________________________________________________\n",
      "Layer (type)                    Output Shape         Param #     Connected to                     \n",
      "==================================================================================================\n",
      "user (InputLayer)               (None, 1)            0                                            \n",
      "__________________________________________________________________________________________________\n",
      "item (InputLayer)               (None, 1)            0                                            \n",
      "__________________________________________________________________________________________________\n",
      "user_embedding (Embedding)      (None, 1, 5)         505         user[0][0]                       \n",
      "__________________________________________________________________________________________________\n",
      "item_embedding (Embedding)      (None, 1, 5)         1505        item[0][0]                       \n",
      "__________________________________________________________________________________________________\n",
      "flatten_1 (Flatten)             (None, 5)            0           user_embedding[0][0]             \n",
      "__________________________________________________________________________________________________\n",
      "flatten_2 (Flatten)             (None, 5)            0           item_embedding[0][0]             \n",
      "__________________________________________________________________________________________________\n",
      "dot_1 (Dot)                     (None, 1)            0           flatten_1[0][0]                  \n",
      "                                                                 flatten_2[0][0]                  \n",
      "==================================================================================================\n",
      "Total params: 2,010\n",
      "Trainable params: 2,010\n",
      "Non-trainable params: 0\n",
      "__________________________________________________________________________________________________\n"
     ]
    }
   ],
   "source": [
    "model = build_model()\n",
    "model.summary()\n",
    "model.compile(optimizer='adam', loss='MSE')"
   ]
  },
  {
   "cell_type": "markdown",
   "metadata": {},
   "source": [
    "## Training"
   ]
  },
  {
   "cell_type": "code",
   "execution_count": 7,
   "metadata": {},
   "outputs": [
    {
     "name": "stdout",
     "output_type": "stream",
     "text": [
      "Train on 9000 samples, validate on 1000 samples\n",
      "Epoch 1/20\n",
      "9000/9000 [==============================] - 0s 46us/step - loss: 10.7330 - val_loss: 10.9953\n",
      "Epoch 2/20\n",
      "9000/9000 [==============================] - 0s 13us/step - loss: 10.6830 - val_loss: 10.8522\n",
      "Epoch 3/20\n",
      "9000/9000 [==============================] - 0s 11us/step - loss: 10.2506 - val_loss: 10.0021\n",
      "Epoch 4/20\n",
      "9000/9000 [==============================] - 0s 13us/step - loss: 8.9395 - val_loss: 8.3079\n",
      "Epoch 5/20\n",
      "9000/9000 [==============================] - 0s 11us/step - loss: 7.0956 - val_loss: 6.3970\n",
      "Epoch 6/20\n",
      "9000/9000 [==============================] - 0s 11us/step - loss: 5.2774 - val_loss: 4.6921\n",
      "Epoch 7/20\n",
      "9000/9000 [==============================] - 0s 11us/step - loss: 3.7658 - val_loss: 3.3500\n",
      "Epoch 8/20\n",
      "9000/9000 [==============================] - 0s 11us/step - loss: 2.6386 - val_loss: 2.3743\n",
      "Epoch 9/20\n",
      "9000/9000 [==============================] - 0s 16us/step - loss: 1.8598 - val_loss: 1.7207\n",
      "Epoch 10/20\n",
      "9000/9000 [==============================] - 0s 15us/step - loss: 1.3505 - val_loss: 1.2936\n",
      "Epoch 11/20\n",
      "9000/9000 [==============================] - 0s 14us/step - loss: 1.0307 - val_loss: 1.0302\n",
      "Epoch 12/20\n",
      "9000/9000 [==============================] - 0s 13us/step - loss: 0.8368 - val_loss: 0.8711\n",
      "Epoch 13/20\n",
      "9000/9000 [==============================] - 0s 11us/step - loss: 0.7225 - val_loss: 0.7780\n",
      "Epoch 14/20\n",
      "9000/9000 [==============================] - 0s 11us/step - loss: 0.6561 - val_loss: 0.7253\n",
      "Epoch 15/20\n",
      "9000/9000 [==============================] - 0s 12us/step - loss: 0.6189 - val_loss: 0.6956\n",
      "Epoch 16/20\n",
      "9000/9000 [==============================] - 0s 11us/step - loss: 0.5981 - val_loss: 0.6799\n",
      "Epoch 17/20\n",
      "9000/9000 [==============================] - 0s 11us/step - loss: 0.5864 - val_loss: 0.6714\n",
      "Epoch 18/20\n",
      "9000/9000 [==============================] - 0s 11us/step - loss: 0.5800 - val_loss: 0.6668\n",
      "Epoch 19/20\n",
      "9000/9000 [==============================] - 0s 12us/step - loss: 0.5765 - val_loss: 0.6634\n",
      "Epoch 20/20\n",
      "9000/9000 [==============================] - 0s 12us/step - loss: 0.5745 - val_loss: 0.6621\n"
     ]
    },
    {
     "data": {
      "text/plain": [
       "<keras.callbacks.History at 0x7fcb9981d668>"
      ]
     },
     "execution_count": 7,
     "metadata": {},
     "output_type": "execute_result"
    }
   ],
   "source": [
    "early_stopping = EarlyStopping(monitor='val_loss', patience=2)\n",
    "model.fit(\n",
    "    [ratings['user_id'], ratings['item_id']], ratings['rating'],\n",
    "    batch_size=64,\n",
    "    epochs=20,\n",
    "    validation_split=0.1,\n",
    "    shuffle=True,\n",
    "    callbacks=[early_stopping])"
   ]
  },
  {
   "cell_type": "markdown",
   "metadata": {},
   "source": [
    "## Testing and online training"
   ]
  },
  {
   "cell_type": "code",
   "execution_count": 8,
   "metadata": {},
   "outputs": [
    {
     "name": "stdout",
     "output_type": "stream",
     "text": [
      "Episode 100/1000\n",
      "Episode 200/1000\n",
      "Episode 300/1000\n",
      "Episode 400/1000\n",
      "Episode 500/1000\n",
      "Episode 600/1000\n",
      "Episode 700/1000\n",
      "Episode 800/1000\n",
      "Episode 900/1000\n",
      "Episode 1000/1000\n",
      "\n",
      "MSE:  0.6588038064823045\n"
     ]
    }
   ],
   "source": [
    "nb_samples = 1000\n",
    "mse = 0\n",
    "\n",
    "users_list = []\n",
    "ratings_list = []\n",
    "items_list = []\n",
    "\n",
    "for i in range(nb_samples):\n",
    "    predicted_score = model.predict([[next_user], [next_item]])[0,0]\n",
    "    \n",
    "    r = requests.get(url=env + 'predict', params= {'user_id':USER_ID, 'predicted_score':predicted_score})\n",
    "    true_rating = r.json()['rating']\n",
    "    mse += (true_rating - predicted_score)**2\n",
    "    \n",
    "    users_list += [next_user]\n",
    "    ratings_list += [true_rating]\n",
    "    items_list += [next_item]\n",
    "    \n",
    "    if (i+1)%100 == 0:\n",
    "        print(\"Episode {:d}/{:d}\".format(i+1, nb_samples))\n",
    "        model.fit([users_list,items_list], ratings_list, verbose=0, epochs=20)\n",
    "        users_list = []\n",
    "        ratings_list = []\n",
    "        items_list = []\n",
    "        \n",
    "    next_item = r.json()['next_item']\n",
    "    next_user = r.json()['next_user']\n",
    "    \n",
    "print('\\nMSE: ', mse/nb_samples )"
   ]
  }
 ],
 "metadata": {
  "kernelspec": {
   "display_name": "Python 3",
   "language": "python",
   "name": "python3"
  },
  "language_info": {
   "codemirror_mode": {
    "name": "ipython",
    "version": 3
   },
   "file_extension": ".py",
   "mimetype": "text/x-python",
   "name": "python",
   "nbconvert_exporter": "python",
   "pygments_lexer": "ipython3",
   "version": "3.6.7"
  }
 },
 "nbformat": 4,
 "nbformat_minor": 2
}
